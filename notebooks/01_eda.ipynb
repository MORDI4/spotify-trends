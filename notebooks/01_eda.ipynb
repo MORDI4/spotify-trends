{
 "cells": [
  {
   "cell_type": "markdown",
   "id": "5acb1f41-b5b9-482d-9805-b801ebd9ef3d",
   "metadata": {},
   "source": [
    "Szkielet EDA"
   ]
  },
  {
   "cell_type": "code",
   "execution_count": 1,
   "id": "a5cf56d9-4f55-46da-a483-441772865a38",
   "metadata": {},
   "outputs": [
    {
     "data": {
      "text/plain": [
       "[]"
      ]
     },
     "execution_count": 1,
     "metadata": {},
     "output_type": "execute_result"
    }
   ],
   "source": [
    "from pathlib import Path\n",
    "import pandas as pd\n",
    "\n",
    "DATA = Path(\"../data\")\n",
    "RAW = DATA / \"raw\"\n",
    "PROCESSED = DATA / \"processed\"\n",
    "\n",
    "list(RAW.glob(\"*.csv\"))"
   ]
  }
 ],
 "metadata": {
  "kernelspec": {
   "display_name": "Python (spotify-trends)",
   "language": "python",
   "name": "spotify-trends"
  },
  "language_info": {
   "codemirror_mode": {
    "name": "ipython",
    "version": 3
   },
   "file_extension": ".py",
   "mimetype": "text/x-python",
   "name": "python",
   "nbconvert_exporter": "python",
   "pygments_lexer": "ipython3",
   "version": "3.12.4"
  }
 },
 "nbformat": 4,
 "nbformat_minor": 5
}
