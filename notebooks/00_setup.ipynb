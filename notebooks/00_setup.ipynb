{
 "cells": [
  {
   "cell_type": "markdown",
   "id": "1abfaffa-bce5-4939-9d42-144f2740bb85",
   "metadata": {},
   "source": [
    "Ten notebook sprawdza środowisko i ładuje podstawowe biblioteki."
   ]
  },
  {
   "cell_type": "code",
   "execution_count": 1,
   "id": "2cfe168a-a648-487b-b455-9c92f336c9c9",
   "metadata": {},
   "outputs": [
    {
     "name": "stdout",
     "output_type": "stream",
     "text": [
      "Python:  3.12.4\n",
      "Exec:  C:\\Users\\Michal\\Desktop\\KODILLA_KURS\\moje_projekty_DATA_SCIENCE\\spotify-trends\\venv\\Scripts\\python.exe\n"
     ]
    }
   ],
   "source": [
    "import sys, platform\n",
    "print(\"Python: \", platform.python_version())\n",
    "print(\"Exec: \", sys.executable)"
   ]
  },
  {
   "cell_type": "code",
   "execution_count": 2,
   "id": "2b43fd34-2c70-43f7-b031-d20e941fa41e",
   "metadata": {},
   "outputs": [
    {
     "name": "stdout",
     "output_type": "stream",
     "text": [
      "OK: biblioteki wczytane\n"
     ]
    }
   ],
   "source": [
    "import pandas as pd, numpy as np\n",
    "import matplotlib.pyplot as plt\n",
    "import seaborn as sns\n",
    "import plotly.express as px\n",
    "\n",
    "print(\"OK: biblioteki wczytane\")"
   ]
  }
 ],
 "metadata": {
  "kernelspec": {
   "display_name": "Python (spotify-trends)",
   "language": "python",
   "name": "spotify-trends"
  },
  "language_info": {
   "codemirror_mode": {
    "name": "ipython",
    "version": 3
   },
   "file_extension": ".py",
   "mimetype": "text/x-python",
   "name": "python",
   "nbconvert_exporter": "python",
   "pygments_lexer": "ipython3",
   "version": "3.12.4"
  }
 },
 "nbformat": 4,
 "nbformat_minor": 5
}
